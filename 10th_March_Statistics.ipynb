{
 "cells": [
  {
   "cell_type": "markdown",
   "id": "a6b855ca",
   "metadata": {},
   "source": [
    "### Q1: What is Estimation Statistics? Explain point estimate and interval estimate."
   ]
  },
  {
   "cell_type": "markdown",
   "id": "8d632fb3",
   "metadata": {},
   "source": [
    "#### Estimation statistics is a branch of statistics that involves using sample data to make inferences or predictions about population parameters. It is the process of using sample data to estimate unknown population parameters such as mean, variance, and proportion.\n",
    "\n",
    "###### Point Estimate:\n",
    "#### A point estimate is a single value that is used to estimate an unknown population parameter. It is calculated using the sample data and represents the best estimate of the true value of the parameter. For example, if we want to estimate the mean income of a population, we might take a random sample of individuals from that population and calculate the mean income of the sample. This sample mean is a point estimate of the population mean.\n",
    "\n",
    "###### Interval Estimate:\n",
    "#### An interval estimate is a range of values that is used to estimate an unknown population parameter. It is calculated using the sample data and represents a range of plausible values for the parameter. For example, if we want to estimate the mean income of a population, we might take a random sample of individuals from that population and calculate the sample mean and standard deviation. We can then use these values to calculate a confidence interval, which is a range of values that is likely to contain the true population mean with a certain level of confidence (e.g., 95% confidence interval)."
   ]
  },
  {
   "cell_type": "markdown",
   "id": "f6275bb5",
   "metadata": {},
   "source": [
    "### Q2. Write a Python function to estimate the population mean using a sample mean and standard deviation."
   ]
  },
  {
   "cell_type": "code",
   "execution_count": 2,
   "id": "2f09f5ec",
   "metadata": {},
   "outputs": [
    {
     "name": "stdout",
     "output_type": "stream",
     "text": [
      "Estimated population mean: 45.6\n"
     ]
    }
   ],
   "source": [
    "def estimate_population_mean(sample_mean, sample_std_dev, sample_size):\n",
    "\n",
    "    standard_error = sample_std_dev / (sample_size ** 0.5)\n",
    "    z_score = 1.96  # For 95% confidence interval\n",
    "    margin_of_error = z_score * standard_error\n",
    "    lower_bound = sample_mean - margin_of_error\n",
    "    upper_bound = sample_mean + margin_of_error\n",
    "    estimated_mean = (lower_bound + upper_bound) / 2\n",
    "    return estimated_mean\n",
    "\n",
    "\n",
    "# Example input\n",
    "sample_mean = 45.6\n",
    "sample_std_dev = 7.8\n",
    "sample_size = 100\n",
    "\n",
    "# Calculate the estimated population mean\n",
    "estimated_mean = estimate_population_mean(sample_mean, sample_std_dev, sample_size)\n",
    "\n",
    "# Print the result\n",
    "print(f\"Estimated population mean: {estimated_mean}\")"
   ]
  },
  {
   "cell_type": "markdown",
   "id": "f1e9d51d",
   "metadata": {},
   "source": [
    "### Q3: What is Hypothesis testing? Why is it used? State the importance of Hypothesis testing."
   ]
  },
  {
   "cell_type": "markdown",
   "id": "d4464e37",
   "metadata": {},
   "source": [
    "#### Hypothesis testing is a statistical method used to determine whether an assumption (hypothesis) about a population parameter is supported by sample data. It involves setting up two opposing hypotheses, a null hypothesis (H0) and an alternative hypothesis (Ha), and testing the null hypothesis against the alternative hypothesis.\n",
    "\n",
    "#### The null hypothesis (H0) typically represents the assumption that there is no significant difference between a population parameter and a hypothesized value. The alternative hypothesis (Ha) represents the opposite of the null hypothesis, and it is usually the hypothesis of interest or what the researcher wants to show.\n",
    "\n",
    "#### The process of hypothesis testing involves selecting an appropriate statistical test based on the nature of the data and the hypothesis being tested, calculating a test statistic, and comparing it to a critical value or p-value to determine whether to reject or fail to reject the null hypothesis.\n",
    "\n",
    "#### Hypothesis testing is used to make decisions about the validity of a claim or hypothesis based on available data. It is an important tool in research, as it allows researchers to make evidence-based decisions and draw conclusions about a population based on a sample of data.\n",
    "\n",
    "#### The importance of hypothesis testing lies in its ability to help researchers make inferences about population parameters based on sample data while controlling for the possibility of error due to random sampling. Hypothesis testing also helps researchers identify factors that may be influencing the data and to differentiate between chance occurrences and significant differences between groups or variables.\n",
    "\n",
    "#### Hypothesis testing provides a systematic way to assess the significance of research findings and can be used to test a wide range of hypotheses in different areas of study, including medicine, psychology, economics, and engineering, among others."
   ]
  },
  {
   "cell_type": "markdown",
   "id": "81ea196d",
   "metadata": {},
   "source": [
    "### Q4. Create a hypothesis that states whether the average weight of male college students is greater than the average weight of female college students."
   ]
  },
  {
   "cell_type": "markdown",
   "id": "cb246745",
   "metadata": {},
   "source": [
    "###### Null hypothesis (H0): The average weight of male college students is equal to or less than the average weight of female college students.\n",
    "\n",
    "###### Alternative hypothesis (Ha): The average weight of male college students is greater than the average weight of female college students.\n",
    "\n",
    "#### Symbolically:\n",
    "\n",
    "###### H0: μm ≤ μf\n",
    "\n",
    "###### Ha: μm > μf\n",
    "\n",
    "#### where μm is the population mean weight of male college students and μf is the population mean weight of female college students."
   ]
  },
  {
   "cell_type": "markdown",
   "id": "066d89d4",
   "metadata": {},
   "source": [
    "### Q5. Write a Python script to conduct a hypothesis test on the difference between two population means, given a sample from each population."
   ]
  },
  {
   "cell_type": "code",
   "execution_count": 4,
   "id": "132a489e",
   "metadata": {},
   "outputs": [
    {
     "name": "stdout",
     "output_type": "stream",
     "text": [
      "Fail to reject the null hypothesis (mu1 - mu2 = 0) at the 5.0% level of significance.\n",
      "Sample 1 mean: 85.0\n",
      "Sample 2 mean: 78.8\n",
      "Test statistic: 1.7235526374242773\n",
      "P-value: 0.12385918825967612\n"
     ]
    }
   ],
   "source": [
    "import numpy as np\n",
    "from scipy.stats import t\n",
    "\n",
    "\n",
    "H0 = \"mu1 - mu2 = 0\"  \n",
    "alpha = 0.05\n",
    "\n",
    "# Define the two samples\n",
    "x1 = np.array([85, 90, 78, 92, 80])\n",
    "x2 = np.array([75, 85, 80, 72, 82])\n",
    "\n",
    "# Calculate the sample statistics\n",
    "n1 = len(x1)\n",
    "n2 = len(x2)\n",
    "mean1 = np.mean(x1)\n",
    "mean2 = np.mean(x2)\n",
    "std1 = np.std(x1, ddof=1)\n",
    "std2 = np.std(x2, ddof=1)\n",
    "\n",
    "# Calculate the test statistic (assuming unequal variances)\n",
    "s_pooled = np.sqrt(((n1-1)*std1**2 + (n2-1)*std2**2) / (n1+n2-2))\n",
    "t_stat = (mean1 - mean2) / (s_pooled * np.sqrt(1/n1 + 1/n2))\n",
    "\n",
    "# Calculate the degrees of freedom\n",
    "df = (std1**2/n1 + std2**2/n2)**2 / ((std1**2/n1)**2/(n1-1) + (std2**2/n2)**2/(n2-1))\n",
    "\n",
    "# Calculate the p-value\n",
    "p_value = t.sf(abs(t_stat), df) * 2  # Multiply by 2 for a two-tailed test\n",
    "\n",
    "# Determine whether to reject the null hypothesis\n",
    "if p_value < alpha:\n",
    "    print(f\"Reject the null hypothesis ({H0}) at the {alpha*100}% level of significance.\")\n",
    "else:\n",
    "    print(f\"Fail to reject the null hypothesis ({H0}) at the {alpha*100}% level of significance.\")\n",
    "    \n",
    "# Print the test statistics\n",
    "print(f\"Sample 1 mean: {mean1}\")\n",
    "print(f\"Sample 2 mean: {mean2}\")\n",
    "print(f\"Test statistic: {t_stat}\")\n",
    "print(f\"P-value: {p_value}\")"
   ]
  },
  {
   "cell_type": "markdown",
   "id": "a254ae84",
   "metadata": {},
   "source": [
    "### Q6: What is a null and alternative hypothesis? Give some examples."
   ]
  },
  {
   "cell_type": "markdown",
   "id": "74477d18",
   "metadata": {},
   "source": [
    "#### In hypothesis testing, the null hypothesis (H0) is a statement that assumes there is no significant difference or relationship between two variables, or no significant effect of a treatment or intervention. The alternative hypothesis (Ha), on the other hand, is a statement that assumes there is a significant difference or relationship between two variables, or a significant effect of a treatment or intervention.\n",
    "\n",
    "#### Here are some examples of null and alternative hypotheses:\n",
    "\n",
    "###### Example 1: A manufacturer of light bulbs claims that the average lifespan of their bulbs is 800 hours. You want to test whether this claim is true. The null hypothesis would be that the mean lifespan of the bulbs is 800 hours (H0: μ = 800) and the alternative hypothesis would be that the mean lifespan is different from 800 hours (Ha: μ ≠ 800).\n",
    "\n",
    "###### Example 2: A pharmaceutical company has developed a new drug for treating hypertension. They claim that the drug lowers blood pressure by at least 10 mmHg. You want to test whether this claim is true. The null hypothesis would be that the drug does not lower blood pressure by at least 10 mmHg (H0: μ ≤ 0) and the alternative hypothesis would be that the drug does lower blood pressure by at least 10 mmHg (Ha: μ > 0).\n",
    "\n",
    "###### Example 3: A university wants to determine whether there is a significant difference in the average GPA of students who attend morning classes versus those who attend evening classes. The null hypothesis would be that there is no difference in the mean GPA between the two groups (H0: μmorning = μevening) and the alternative hypothesis would be that there is a difference (Ha: μmorning ≠ μevening).\n",
    "\n",
    "###### Example 4: A researcher wants to investigate whether there is a significant correlation between the amount of time spent studying and exam performance. The null hypothesis would be that there is no correlation between the two variables (H0: ρ = 0) and the alternative hypothesis would be that there is a correlation (Ha: ρ ≠ 0)."
   ]
  },
  {
   "cell_type": "markdown",
   "id": "68e7c46b",
   "metadata": {},
   "source": [
    "### Q7: Write down the steps involved in hypothesis testing."
   ]
  },
  {
   "cell_type": "markdown",
   "id": "c6aadfac",
   "metadata": {},
   "source": [
    "#### Here are the general steps involved in hypothesis testing:\n",
    "\n",
    "###### 1. State the null and alternative hypotheses: The first step is to clearly state the null and alternative hypotheses, based on the research question or problem being investigated.\n",
    "\n",
    "###### 2. Choose the level of significance: The level of significance, denoted by α, is the probability of making a Type I error (rejecting the null hypothesis when it is actually true). A common value for α is 0.05, which corresponds to a 5% chance of making a Type I error.\n",
    "\n",
    "###### 3. Determine the test statistic: The test statistic is a value calculated from the sample data that is used to evaluate the evidence against the null hypothesis. The choice of test statistic depends on the type of data and the specific hypothesis being tested.\n",
    "\n",
    "###### 4. Determine the critical value: The critical value is the value that separates the rejection region from the non-rejection region, based on the chosen level of significance and the degrees of freedom.\n",
    "\n",
    "###### 5. Calculate the p-value: The p-value is the probability of observing a test statistic as extreme as the one calculated from the sample data, assuming the null hypothesis is true.\n",
    "\n",
    "###### 6. Make a decision: Based on the test statistic, critical value, and p-value, make a decision whether to reject or fail to reject the null hypothesis.\n",
    "\n",
    "###### 7. Interpret the results: If the null hypothesis is rejected, interpret the results in the context of the research question or problem being investigated. If the null hypothesis is not rejected, interpret the results as evidence that the null hypothesis cannot be rejected at the chosen level of significance."
   ]
  },
  {
   "cell_type": "markdown",
   "id": "2f121fd0",
   "metadata": {},
   "source": [
    "### Q8. Define p-value and explain its significance in hypothesis testing."
   ]
  },
  {
   "cell_type": "markdown",
   "id": "bf612303",
   "metadata": {},
   "source": [
    "#### The p-value is a probability value that measures the strength of the evidence against the null hypothesis in a hypothesis test. It represents the probability of observing a test statistic as extreme as, or more extreme than, the one calculated from the sample data, assuming the null hypothesis is true.\n",
    "\n",
    "#### The significance of the p-value in hypothesis testing is that it provides a way to evaluate the strength of the evidence against the null hypothesis. A small p-value (typically less than the chosen level of significance, α) indicates strong evidence against the null hypothesis, while a large p-value indicates weak evidence against the null hypothesis.\n",
    "\n",
    "#### If the p-value is less than the chosen level of significance, α, then the null hypothesis is rejected in favor of the alternative hypothesis, because the observed data provides strong evidence that the null hypothesis is not true. On the other hand, if the p-value is greater than or equal to α, then the null hypothesis is not rejected, because the observed data does not provide sufficient evidence to reject the null hypothesis at the chosen level of significance.\n",
    "\n",
    "#### In practical terms, the p-value allows us to make informed decisions based on statistical evidence, rather than relying solely on subjective opinions or intuition. It helps us to assess the significance of the results of a hypothesis test, and to draw valid conclusions based on the data at hand."
   ]
  },
  {
   "cell_type": "markdown",
   "id": "1cb28f69",
   "metadata": {},
   "source": [
    "### Q9. Generate a Student's t-distribution plot using Python's matplotlib library, with the degrees of freedom parameter set to 10."
   ]
  },
  {
   "cell_type": "code",
   "execution_count": 6,
   "id": "248963b6",
   "metadata": {},
   "outputs": [
    {
     "data": {
      "image/png": "[encoded data removed]",
      "text/plain": [
       "<Figure size 640x480 with 1 Axes>"
      ]
     },
     "metadata": {},
     "output_type": "display_data"
    }
   ],
   "source": [
    "import numpy as np\n",
    "import matplotlib.pyplot as plt\n",
    "from scipy.stats import t\n",
    "\n",
    "# Generate x-values for the plot\n",
    "x = np.linspace(-4, 4, 1000)\n",
    "\n",
    "# Calculate y-values using t-distribution with 10 degrees of freedom\n",
    "y = t.pdf(x, df=10)\n",
    "\n",
    "# Plot the t-distribution\n",
    "plt.plot(x, y, label='t-distribution (df=10)')\n",
    "\n",
    "# Add a legend and axis labels\n",
    "plt.legend()\n",
    "plt.xlabel('x')\n",
    "plt.ylabel('Probability density')\n",
    "plt.title(\"Student's t-distribution (df=10)\")\n",
    "plt.show()"
   ]
  },
  {
   "cell_type": "markdown",
   "id": "f7f92264",
   "metadata": {},
   "source": [
    "### Q10. Write a Python program to calculate the two-sample t-test for independent samples, given two random samples of equal size and a null hypothesis that the population means are equal."
   ]
  },
  {
   "cell_type": "code",
   "execution_count": 7,
   "id": "90b9e23f",
   "metadata": {},
   "outputs": [
    {
     "name": "stdout",
     "output_type": "stream",
     "text": [
      "Sample 1 mean: 5.04\n",
      "Sample 2 mean: 3.8\n",
      "Pooled standard deviation: 0.9173330910852394\n",
      "Degrees of freedom: 8\n",
      "T-statistic: 2.137295785312746\n",
      "P-value: 0.06504977136655166\n"
     ]
    }
   ],
   "source": [
    "import numpy as np\n",
    "from scipy.stats import t\n",
    "\n",
    "# Define the two samples\n",
    "sample1 = np.array([3.4, 5.1, 4.7, 6.2, 5.8])\n",
    "sample2 = np.array([2.9, 3.5, 4.1, 3.7, 4.8])\n",
    "\n",
    "# Calculate the sample means and standard deviations\n",
    "x1 = np.mean(sample1)\n",
    "x2 = np.mean(sample2)\n",
    "s1 = np.std(sample1, ddof=1)\n",
    "s2 = np.std(sample2, ddof=1)\n",
    "\n",
    "# Calculate the pooled standard deviation and degrees of freedom\n",
    "s_pooled = np.sqrt(((len(sample1) - 1) * s1**2 + (len(sample2) - 1) * s2**2) / (len(sample1) + len(sample2) - 2))\n",
    "df = len(sample1) + len(sample2) - 2\n",
    "\n",
    "# Calculate the t-statistic\n",
    "t_stat = (x1 - x2) / (s_pooled * np.sqrt(1/len(sample1) + 1/len(sample2)))\n",
    "\n",
    "# Calculate the p-value\n",
    "p_val = 2 * (1 - t.cdf(abs(t_stat), df))\n",
    "\n",
    "# Print the results\n",
    "print('Sample 1 mean:', x1)\n",
    "print('Sample 2 mean:', x2)\n",
    "print('Pooled standard deviation:', s_pooled)\n",
    "print('Degrees of freedom:', df)\n",
    "print('T-statistic:', t_stat)\n",
    "print('P-value:', p_val)"
   ]
  },
  {
   "cell_type": "markdown",
   "id": "b97c1b04",
   "metadata": {},
   "source": [
    "### Q11: What is Student’s t distribution? When to use the t-Distribution."
   ]
  },
  {
   "cell_type": "markdown",
   "id": "5393c613",
   "metadata": {},
   "source": [
    "###### Student's t-distribution is a probability distribution that arises from the problem of estimating the mean of a normally distributed population when the sample size is small and/or the population standard deviation is unknown. It is similar to the standard normal distribution, but has heavier tails and a flatter peak. The t-distribution is named after William Gosset, who developed it under the pseudonym \"Student\" while working at Guinness Brewery in Dublin, Ireland.\n",
    "\n",
    "###### The t-distribution is typically used in situations where the sample size is small (typically less than 30) and/or the population standard deviation is unknown. In these situations, we cannot use the standard normal distribution to make inferences about the population mean, and instead we use the t-distribution. The t-distribution is also used in hypothesis testing and confidence interval estimation, where we are interested in making inferences about the population mean based on a sample of data."
   ]
  },
  {
   "cell_type": "markdown",
   "id": "7b26c6ea",
   "metadata": {},
   "source": [
    "### Q12: What is t-statistic? State the formula for t-statistic."
   ]
  },
  {
   "cell_type": "markdown",
   "id": "58c2b687",
   "metadata": {},
   "source": [
    "#### In statistics, the t-statistic is a measure of the difference between the sample mean and the population mean, relative to the variability in the sample data. It is commonly used in hypothesis testing to determine whether the difference between the sample mean and the population mean is statistically significant or not.\n",
    "\n",
    "#### The formula for t-statistic is as follows:\n",
    "\n",
    "###### t = (x̄ - μ) / (s / √n)\n",
    "\n",
    "###### where x̄ is the sample mean, μ is the population mean, s is the sample standard deviation, and n is the sample size. The t-statistic measures how many standard errors the sample mean is away from the population mean, and is calculated by dividing the difference between the sample mean and the population mean by the standard error of the mean.\n",
    "\n",
    "#### The t-statistic follows a t-distribution with n-1 degrees of freedom, where n is the sample size. The t-distribution has a bell-shaped curve and is similar in shape to the standard normal distribution, but with heavier tails."
   ]
  },
  {
   "cell_type": "markdown",
   "id": "b2ec272a",
   "metadata": {},
   "source": [
    "### Q13. A coffee shop owner wants to estimate the average daily revenue for their shop. They take a random sample of 50 days and find the sample mean revenue to be  dollar 500 with a standard deviation of  dollar 50.\n",
    "### Estimate the population mean revenue with a 95% confidence interval."
   ]
  },
  {
   "cell_type": "markdown",
   "id": "b09b2776",
   "metadata": {},
   "source": [
    "#### To estimate the population mean revenue with a 95% confidence interval, we can use the following formula:\n",
    "\n",
    "#### Confidence interval = sample mean ± t-value (α/2, n-1) * standard error\n",
    "\n",
    "#### where t-value is the critical value from the t-distribution with (n-1) degrees of freedom, α is the level of significance (0.05 for a 95% confidence interval), n is the sample size, and standard error is the standard deviation of the sample mean, given by:\n",
    "\n",
    "#### standard error = standard deviation / sqrt(n)\n",
    "\n",
    "#### Plugging in the given values, we have:\n",
    "\n",
    "#### sample mean = Dollar 500\n",
    "#### standard deviation = Dollar 50\n",
    "#### sample size = 50\n",
    "#### level of significance (α) = 0.05\n",
    "\n",
    "#### First, we need to find the critical t-value from the t-distribution table with 49 degrees of freedom and a 95% confidence level. The two-tailed t-value at α/2 = 0.025 and 49 degrees of freedom is approximately 2.009.\n",
    "\n",
    "#### Next, we can calculate the standard error:\n",
    "\n",
    "#### standard error = Dollar 50 / sqrt(50) = Dollar 7.07\n",
    "\n",
    "#### Finally, we can calculate the 95% confidence interval for the population mean revenue as:\n",
    "\n",
    "#### Confidence interval = Dollar 500 ± 2.009 * Dollar 7.07 = [Dollar 485.82, Dollar 514.18]\n",
    "\n",
    "#### Therefore, we can say with 95% confidence that the population mean revenue for the coffee shop is between Dollar 485.82 and Dollar 514.18."
   ]
  },
  {
   "cell_type": "markdown",
   "id": "d85aed76",
   "metadata": {},
   "source": [
    "### Q14. A researcher hypothesizes that a new drug will decrease blood pressure by 10 mmHg. They conduct a clinical trial with 100 patients and find that the sample mean decrease in blood pressure is 8 mmHg with a standard deviation of 3 mmHg. Test the hypothesis with a significance level of 0.05."
   ]
  },
  {
   "cell_type": "markdown",
   "id": "3eaf6307",
   "metadata": {},
   "source": [
    "#### To test the hypothesis with a significance level of 0.05, we need to perform a one-sample t-test. The null hypothesis is that the true mean decrease in blood pressure is equal to 10 mmHg, while the alternative hypothesis is that the true mean decrease in blood pressure is less than 10 mmHg.\n",
    "\n",
    "#### The test statistic for a one-sample t-test is calculated using the formula:\n",
    "\n",
    "###### t = (sample mean - hypothesized mean) / (standard error)\n",
    "\n",
    "###### where the standard error is given by:\n",
    "\n",
    "###### standard error = standard deviation / sqrt(sample size)\n",
    "\n",
    "#### Plugging in the given values, we have:\n",
    "\n",
    "###### sample mean = 8 mmHg\n",
    "###### hypothesized mean = 10 mmHg\n",
    "###### standard deviation = 3 mmHg\n",
    "###### sample size = 100\n",
    "###### significance level (α) = 0.05\n",
    "\n",
    "##### The standard error is:\n",
    "\n",
    "###### standard error = 3 / sqrt(100) = 0.3\n",
    "\n",
    "###### The t-value is:\n",
    "\n",
    "###### t = (8 - 10) / 0.3 = -6.67\n",
    "\n",
    "###### Using a t-distribution table with 99 degrees of freedom (sample size - 1), and a significance level of 0.05 for a one-tailed test, the critical t-value is -1.66.\n",
    "\n",
    "###### Since the calculated t-value (-6.67) is less than the critical t-value (-1.66), we reject the null hypothesis. Therefore, we can conclude that the new drug decreases blood pressure significantly, and the true mean decrease in blood pressure is less than 10 mmHg.\n",
    "\n",
    "###### In other words, the results suggest that the new drug is effective in reducing blood pressure."
   ]
  },
  {
   "cell_type": "markdown",
   "id": "7a9b3eca",
   "metadata": {},
   "source": [
    "### Q15. An electronics company produces a certain type of product with a mean weight of 5 pounds and a standard deviation of 0.5 pounds. A random sample of 25 products is taken, and the sample mean weight is found to be 4.8 pounds. Test the hypothesis that the true mean weight of the products is less than 5 pounds with a significance level of 0.01."
   ]
  },
  {
   "cell_type": "markdown",
   "id": "d1bbb86c",
   "metadata": {},
   "source": [
    "#### To test the hypothesis that the true mean weight of the products is less than 5 pounds, we need to perform a one-sample t-test. The null hypothesis is that the true mean weight of the products is equal to 5 pounds, while the alternative hypothesis is that the true mean weight is less than 5 pounds.\n",
    "\n",
    "#### The test statistic for a one-sample t-test is calculated using the formula:\n",
    "\n",
    "###### t = (sample mean - hypothesized mean) / (standard error)\n",
    "\n",
    "###### where the standard error is given by:\n",
    "\n",
    "###### standard error = standard deviation / sqrt(sample size)\n",
    "\n",
    "#### Plugging in the given values, we have:\n",
    "\n",
    "#### sample mean = 4.8 pounds\n",
    "#### hypothesized mean = 5 pounds\n",
    "#### standard deviation = 0.5 pounds\n",
    "#### sample size = 25\n",
    "#### significance level (α) = 0.01\n",
    "\n",
    "#### The standard error is:\n",
    "\n",
    "###### standard error = 0.5 / sqrt(25) = 0.1\n",
    "\n",
    "###### The t-value is:\n",
    "\n",
    "###### t = (4.8 - 5) / 0.1 = -2\n",
    "\n",
    "###### Using a t-distribution table with 24 degrees of freedom (sample size - 1), and a significance level of 0.01 for a one-tailed test, the critical t-value is -2.492.\n",
    "\n",
    "#### Since the calculated t-value (-2) is greater than the critical t-value (-2.492), we fail to reject the null hypothesis. Therefore, we can conclude that there is not enough evidence to suggest that the true mean weight of the products is less than 5 pounds.\n",
    "\n",
    "#### In other words, the results suggest that the sample mean weight of 4.8 pounds is not significantly different from the hypothesized mean weight of 5 pounds, and the company can continue to produce the products with the same mean weight."
   ]
  },
  {
   "cell_type": "markdown",
   "id": "6fd412a9",
   "metadata": {},
   "source": [
    "### Q16. Two groups of students are given different study materials to prepare for a test. The first group (n1 =30) has a mean score of 80 with a standard deviation of 10, and the second group (n2 = 40) has a mean score of 75 with a standard deviation of 8. Test the hypothesis that the population means for the two groups are equal with a significance level of 0.01."
   ]
  },
  {
   "cell_type": "markdown",
   "id": "72b8fcfe",
   "metadata": {},
   "source": [
    "#### To test the hypothesis that the population means for the two groups are equal, we can use a two-sample t-test for independent samples. Here, we have:\n",
    "\n",
    "#### Group 1: sample size n1 = 30, sample mean x1 = 80, sample standard deviation s1 = 10\n",
    "#### Group 2: sample size n2 = 40, sample mean x2 = 75, sample standard deviation s2 = 8\n",
    "#### Significance level α = 0.01\n",
    "#### The null hypothesis is that the population means for the two groups are equal:\n",
    "\n",
    "#### H0: μ1 = μ2\n",
    "\n",
    "#### The alternative hypothesis is that the population means for the two groups are not equal:\n",
    "\n",
    "#### Ha: μ1 ≠ μ2\n",
    "\n",
    "#### We can use the two-sample t-test formula to calculate the t-value:\n",
    "\n",
    "#### t = (x1 - x2) / sqrt(s1^2/n1 + s2^2/n2)\n",
    "\n",
    "#### Here, t follows a t-distribution with degrees of freedom df given by:\n",
    "\n",
    "#### df = (s1^2/n1 + s2^2/n2)^2 / ( (s1^2/n1)^2/(n1-1) + (s2^2/n2)^2/(n2-1) )\n",
    "\n",
    "#### Using the given values, we get:\n",
    "\n",
    "#### t = (80 - 75) / sqrt(10^2/30 + 8^2/40) = 1.84\n",
    "\n",
    "#### df = (10^2/30 + 8^2/40)^2 / ( (10^2/30)^2/29 + (8^2/40)^2/39 ) = 65.11\n",
    "\n",
    "#### Using a t-table with 65 degrees of freedom and a significance level of 0.01, we can find the critical t-value to be ±2.660. Since our calculated t-value of 1.84 falls within the acceptance region (-2.660 < t < 2.660), we fail to reject the null hypothesis and conclude that there is not enough evidence to suggest that the population means for the two groups are different at a significance level of 0.01."
   ]
  },
  {
   "cell_type": "markdown",
   "id": "dc254954",
   "metadata": {},
   "source": [
    "### Q17. A marketing company wants to estimate the average number of ads watched by viewers during a TV program. They take a random sample of 50 viewers and find that the sample mean is 4 with a standard deviation of 1.5. Estimate the population mean with a 99% confidence interval."
   ]
  },
  {
   "cell_type": "markdown",
   "id": "ef2c7c8a",
   "metadata": {},
   "source": [
    "#### We are given:\n",
    "\n",
    "#### Sample size n = 50\n",
    "\n",
    "#### Sample mean x̄ = 4\n",
    "\n",
    "#### Sample standard deviation s = 1.5\n",
    "\n",
    "#### We want to estimate the population mean with a 99% confidence interval.\n",
    "\n",
    "#### First, we need to find the critical value for a 99% confidence interval using the t-distribution. Since the sample size is greater than 30, we can use the standard normal distribution instead.\n",
    "\n",
    "#### The critical value for a 99% confidence interval with a two-tailed test is:\n",
    "\n",
    "#### z_critical = 2.576\n",
    "\n",
    "#### Next, we can use the following formula to calculate the margin of error:\n",
    "\n",
    "#### Margin of error = z_critical * (s / sqrt(n))\n",
    "\n",
    "#### Margin of error = 2.576 * (1.5 / sqrt(50))\n",
    "\n",
    "#### Margin of error = 0.538\n",
    "\n",
    "#### Finally, we can calculate the confidence interval as:\n",
    "\n",
    "#### Confidence interval = (x̄ - margin of error, x̄ + margin of error)\n",
    "\n",
    "#### Confidence interval = (4 - 0.538, 4 + 0.538)\n",
    "\n",
    "#### Confidence interval = (3.462, 4.538)\n",
    "\n",
    "#### Therefore, we can be 99% confident that the true population mean lies between 3.462 and 4.538 ads watched by viewers during a TV program."
   ]
  },
  {
   "cell_type": "code",
   "execution_count": null,
   "id": "2f29719a",
   "metadata": {},
   "outputs": [],
   "source": []
  }
 ],
 "metadata": {
  "kernelspec": {
   "display_name": "Python 3 (ipykernel)",
   "language": "python",
   "name": "python3"
  },
  "language_info": {
   "codemirror_mode": {
    "name": "ipython",
    "version": 3
   },
   "file_extension": ".py",
   "mimetype": "text/x-python",
   "name": "python",
   "nbconvert_exporter": "python",
   "pygments_lexer": "ipython3",
   "version": "3.9.13"
  }
 },
 "nbformat": 4,
 "nbformat_minor": 5
}
